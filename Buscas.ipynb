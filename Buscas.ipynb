{
  "nbformat": 4,
  "nbformat_minor": 0,
  "metadata": {
    "colab": {
      "provenance": [],
      "authorship_tag": "ABX9TyP7ddWeMs83UJrMyemi7Vms",
      "include_colab_link": true
    },
    "kernelspec": {
      "name": "python3",
      "display_name": "Python 3"
    },
    "language_info": {
      "name": "python"
    }
  },
  "cells": [
    {
      "cell_type": "markdown",
      "metadata": {
        "id": "view-in-github",
        "colab_type": "text"
      },
      "source": [
        "<a href=\"https://colab.research.google.com/github/gabrielm3lo/busca_profundidade/blob/main/Buscas.ipynb\" target=\"_parent\"><img src=\"https://colab.research.google.com/assets/colab-badge.svg\" alt=\"Open In Colab\"/></a>"
      ]
    },
    {
      "cell_type": "code",
      "execution_count": 2,
      "metadata": {
        "id": "6EjG7YVLULy3",
        "outputId": "6261c08d-7ab1-408c-93ec-c3a202140cb2",
        "colab": {
          "base_uri": "https://localhost:8080/"
        }
      },
      "outputs": [
        {
          "output_type": "stream",
          "name": "stdout",
          "text": [
            "A\n",
            "B\n",
            "C\n",
            "D\n",
            "J\n",
            "Chegou ao destino\n"
          ]
        }
      ],
      "source": [
        "mD =  {\n",
        "          0: 'A',\n",
        "          1: 'C',\n",
        "          2: 'B',\n",
        "          3: 'D',\n",
        "          4: 'L',\n",
        "          5: 'J',\n",
        "          6: 'I',\n",
        "          7: 'E',\n",
        "          8: 'G',\n",
        "          9: 'H',\n",
        "         10: 'F'\n",
        "}\n",
        "\n",
        "grafo = [\n",
        "            [2,1], #vizinhos do nó 0\n",
        "            [5,4,0,], #vizinhos do nó 1\n",
        "            [3,0], #vizinhos do nó 2\n",
        "            [2,7,5], #vizinhos do nó 3\n",
        "            [1,6], #vizinhos do nó 4\n",
        "            [8,6,3,1], #vizinhos do nó 5\n",
        "            [9,5,4], #vizinhos do nó 6\n",
        "            [10,3], #vizinhos do nó 7\n",
        "            [10,9,5], #vizinhos do nó 8\n",
        "            [8, 10, 6], #vizinhos do nó 9\n",
        "            [8, 9, 7] #vizinhos do nó 10\n",
        "]\n",
        "\n",
        "nohsVisitados = [0, 0, 0, 0, 0, 0, 0, 0, 0, 0, 0]\n",
        "\n",
        "def buscaEmProfundidade(nohPartida, nohChegar):\n",
        "  pilha = []\n",
        "  pilha.append(nohPartida)\n",
        "\n",
        "  while len(pilha) > 0:\n",
        "    nohDaVez = pilha.pop()\n",
        "    if nohsVisitados[nohDaVez] == 0:\n",
        "      nohsVisitados[nohDaVez] = 1\n",
        "      print(mD[nohDaVez])\n",
        "      \n",
        "      if nohDaVez == nohChegar:\n",
        "        print(\"Chegou ao destino\")\n",
        "        break\n",
        "      else:\n",
        "        for noh in grafo[nohDaVez]:\n",
        "          pilha.append(noh)\n",
        "\n",
        "#buscaEmProfundidade(0, 7)\n",
        "\n",
        "fila = []\n",
        "\n",
        "def buscaEmLargura(nohPartida, nohDeChegada):\n",
        "  fila.append(nohPartida)\n",
        "\n",
        "  while len(fila) > 0:\n",
        "    noh = fila.pop(0)\n",
        "    nohsVisitados[noh] = 1\n",
        "    print(mD[noh])\n",
        "\n",
        "    if noh == nohDeChegada:\n",
        "      print(\"Chegou ao destino\")\n",
        "      break\n",
        "\n",
        "    for n in grafo[noh]:\n",
        "      if nohsVisitados[n] == 0:\n",
        "        nohsVisitados[n] = 1\n",
        "        fila.append(n)\n",
        "\n",
        "buscaEmLargura(0,5)"
      ]
    },
    {
      "cell_type": "code",
      "source": [],
      "metadata": {
        "id": "_spROtJ6Vocd"
      },
      "execution_count": null,
      "outputs": []
    }
  ]
}